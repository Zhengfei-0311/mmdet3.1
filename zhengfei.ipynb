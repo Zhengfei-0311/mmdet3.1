{
 "cells": [
  {
   "cell_type": "code",
   "execution_count": null,
   "metadata": {},
   "outputs": [],
   "source": [
    "from mmdet.models import ZFHead5\n",
    "import torch\n",
    "\n",
    "inputs = (torch.rand([1, 256, 160, 160]).to(device='cuda:0'), torch.rand([1, 256, 80, 80]).to(device='cuda:0'), torch.rand([1, 256, 40, 40]).to(device='cuda:0'))\n",
    "head = ZFHead5(\n",
    "        num_classes=13,\n",
    "        in_channels=256,\n",
    "        stacked_convs=2,\n",
    "        feat_channels=256,\n",
    "        anchor_generator=dict(\n",
    "            type='MlvlPointGenerator', offset=0, strides=[8, 16, 32]),\n",
    "        bbox_coder=dict(type='DistancePointBBoxCoder'),\n",
    "        loss_cls=dict(\n",
    "            type='QualityFocalLoss',\n",
    "            use_sigmoid=True,\n",
    "            beta=2.0,\n",
    "            loss_weight=1.0),\n",
    "        loss_bbox=dict(type='GIoULoss', loss_weight=2.0),\n",
    "        with_objectness=False,\n",
    "        pred_kernel_size=1,\n",
    "        norm_cfg=dict(type='BN'),\n",
    "        act_cfg=dict(type='SiLU'))\n",
    "head = head.eval()   \n",
    "head = head.to(device='cuda:0')     \n"
   ]
  },
  {
   "cell_type": "code",
   "execution_count": 2,
   "metadata": {},
   "outputs": [],
   "source": [
    "from mmdet.models import ZFHead9\n",
    "import torch\n",
    "\n",
    "inputs = (torch.rand([1, 256, 40, 40]).to(device='cuda:0'), torch.rand([1, 256, 80, 80]).to(device='cuda:0'), torch.rand([1, 256, 160, 160]).to(device='cuda:0'))\n",
    "head = ZFHead9(\n",
    "        num_classes=13,\n",
    "        in_channels=256,\n",
    "        stacked_convs=2,\n",
    "        feat_channels=256,\n",
    "        anchor_generator=dict(\n",
    "            type='MlvlPointGenerator', offset=0, strides=[32, 16, 8]),\n",
    "        bbox_coder=dict(type='DistancePointBBoxCoder'),\n",
    "        loss_cls=dict(\n",
    "            type='QualityFocalLoss',\n",
    "            use_sigmoid=True,\n",
    "            beta=2.0,\n",
    "            loss_weight=1.0),\n",
    "        loss_bbox=dict(type='GIoULoss', loss_weight=2.0),\n",
    "        with_objectness=False,\n",
    "        pred_kernel_size=1,\n",
    "        norm_cfg=dict(type='BN'),\n",
    "        act_cfg=dict(type='SiLU'))\n",
    "head = head.eval()   \n",
    "head = head.to(device='cuda:0')     \n"
   ]
  },
  {
   "cell_type": "code",
   "execution_count": 3,
   "metadata": {},
   "outputs": [],
   "source": [
    "outputs = head.forward(inputs)       "
   ]
  },
  {
   "cell_type": "code",
   "execution_count": 6,
   "metadata": {},
   "outputs": [
    {
     "data": {
      "text/plain": [
       "torch.Size([1, 13, 160, 160])"
      ]
     },
     "execution_count": 6,
     "metadata": {},
     "output_type": "execute_result"
    }
   ],
   "source": [
    "outputs[0][2].shape"
   ]
  },
  {
   "cell_type": "code",
   "execution_count": null,
   "metadata": {},
   "outputs": [],
   "source": [
    "A[0]"
   ]
  },
  {
   "cell_type": "code",
   "execution_count": null,
   "metadata": {},
   "outputs": [],
   "source": []
  },
  {
   "cell_type": "markdown",
   "metadata": {},
   "source": []
  },
  {
   "cell_type": "code",
   "execution_count": 1,
   "metadata": {},
   "outputs": [],
   "source": [
    "import torch\n",
    "import torch.nn as nn\n",
    "\n",
    "\n",
    "m = nn.Conv3d(3, 1, (3, 3, 3), stride=(1, 1, 1), padding=(1, 1, 1))\n"
   ]
  },
  {
   "cell_type": "code",
   "execution_count": 5,
   "metadata": {},
   "outputs": [],
   "source": [
    "input = torch.squeeze(torch.randn(3, 1, 256, 160, 160))\n",
    "output = m(input)"
   ]
  },
  {
   "cell_type": "code",
   "execution_count": null,
   "metadata": {},
   "outputs": [],
   "source": [
    "input.shape"
   ]
  },
  {
   "cell_type": "code",
   "execution_count": null,
   "metadata": {},
   "outputs": [],
   "source": [
    "output.shape"
   ]
  },
  {
   "cell_type": "code",
   "execution_count": null,
   "metadata": {},
   "outputs": [],
   "source": []
  },
  {
   "cell_type": "code",
   "execution_count": null,
   "metadata": {},
   "outputs": [],
   "source": [
    "import torch.nn.functional as F\n",
    "import torch\n",
    "x = torch.randn([1, 256, 40, 40])\n",
    "\n",
    "\n",
    "y2 = F.interpolate(x, size=[160, 160], mode=\"bilinear\")"
   ]
  },
  {
   "cell_type": "code",
   "execution_count": null,
   "metadata": {},
   "outputs": [],
   "source": [
    "x.shape"
   ]
  },
  {
   "cell_type": "code",
   "execution_count": null,
   "metadata": {},
   "outputs": [],
   "source": [
    "y2.shape"
   ]
  },
  {
   "cell_type": "code",
   "execution_count": 1,
   "metadata": {},
   "outputs": [],
   "source": [
    "import mmdet"
   ]
  },
  {
   "cell_type": "code",
   "execution_count": null,
   "metadata": {},
   "outputs": [],
   "source": []
  },
  {
   "cell_type": "code",
   "execution_count": null,
   "metadata": {},
   "outputs": [],
   "source": []
  },
  {
   "cell_type": "code",
   "execution_count": null,
   "metadata": {},
   "outputs": [],
   "source": []
  },
  {
   "cell_type": "code",
   "execution_count": null,
   "metadata": {},
   "outputs": [],
   "source": []
  },
  {
   "cell_type": "code",
   "execution_count": null,
   "metadata": {},
   "outputs": [],
   "source": []
  },
  {
   "cell_type": "code",
   "execution_count": null,
   "metadata": {},
   "outputs": [],
   "source": [
    "\n"
   ]
  },
  {
   "cell_type": "code",
   "execution_count": null,
   "metadata": {},
   "outputs": [],
   "source": []
  },
  {
   "cell_type": "code",
   "execution_count": null,
   "metadata": {},
   "outputs": [],
   "source": []
  },
  {
   "cell_type": "code",
   "execution_count": null,
   "metadata": {},
   "outputs": [],
   "source": []
  },
  {
   "cell_type": "code",
   "execution_count": null,
   "metadata": {},
   "outputs": [],
   "source": []
  },
  {
   "cell_type": "code",
   "execution_count": null,
   "metadata": {},
   "outputs": [],
   "source": []
  },
  {
   "cell_type": "code",
   "execution_count": null,
   "metadata": {},
   "outputs": [],
   "source": []
  },
  {
   "cell_type": "code",
   "execution_count": null,
   "metadata": {},
   "outputs": [],
   "source": []
  },
  {
   "cell_type": "code",
   "execution_count": null,
   "metadata": {},
   "outputs": [],
   "source": []
  },
  {
   "cell_type": "code",
   "execution_count": null,
   "metadata": {},
   "outputs": [],
   "source": []
  },
  {
   "cell_type": "code",
   "execution_count": null,
   "metadata": {},
   "outputs": [],
   "source": []
  },
  {
   "cell_type": "code",
   "execution_count": null,
   "metadata": {},
   "outputs": [],
   "source": []
  },
  {
   "cell_type": "code",
   "execution_count": null,
   "metadata": {},
   "outputs": [],
   "source": []
  },
  {
   "cell_type": "code",
   "execution_count": null,
   "metadata": {},
   "outputs": [],
   "source": []
  },
  {
   "cell_type": "code",
   "execution_count": null,
   "metadata": {},
   "outputs": [],
   "source": []
  },
  {
   "cell_type": "code",
   "execution_count": null,
   "metadata": {},
   "outputs": [],
   "source": []
  }
 ],
 "metadata": {
  "kernelspec": {
   "display_name": "Python 3.10.6 ('cuda-11.3')",
   "language": "python",
   "name": "python3"
  },
  "language_info": {
   "codemirror_mode": {
    "name": "ipython",
    "version": 3
   },
   "file_extension": ".py",
   "mimetype": "text/x-python",
   "name": "python",
   "nbconvert_exporter": "python",
   "pygments_lexer": "ipython3",
   "version": "3.10.6"
  },
  "orig_nbformat": 4,
  "vscode": {
   "interpreter": {
    "hash": "7fe95ee9900e3fb443e05e556b5d8a242f609d95da030f6668c6c07e48eefa16"
   }
  }
 },
 "nbformat": 4,
 "nbformat_minor": 2
}
